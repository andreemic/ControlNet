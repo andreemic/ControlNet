{
 "cells": [
  {
   "cell_type": "code",
   "execution_count": null,
   "id": "954002d5-da6f-4b2c-a15e-ce27f0a108fb",
   "metadata": {},
   "outputs": [],
   "source": [
    "%reload_ext tensorboard\n",
    "%tensorboard --logdir=lightning_logs/"
   ]
  },
  {
   "cell_type": "code",
   "execution_count": null,
   "id": "63f8eacd-8358-4cb6-af01-699063217394",
   "metadata": {},
   "outputs": [],
   "source": [
    "!kill 87094"
   ]
  },
  {
   "cell_type": "code",
   "execution_count": null,
   "id": "e2b5e4a8-d05a-4e89-b2ad-9f78d3c2084c",
   "metadata": {},
   "outputs": [],
   "source": []
  }
 ],
 "metadata": {
  "kernelspec": {
   "display_name": "Python 3",
   "language": "python",
   "name": "python3"
  },
  "language_info": {
   "codemirror_mode": {
    "name": "ipython",
    "version": 3
   },
   "file_extension": ".py",
   "mimetype": "text/x-python",
   "name": "python",
   "nbconvert_exporter": "python",
   "pygments_lexer": "ipython3",
   "version": "3.8.10"
  }
 },
 "nbformat": 4,
 "nbformat_minor": 5
}
