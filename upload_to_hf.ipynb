{
 "cells": [
  {
   "cell_type": "code",
   "execution_count": 1,
   "id": "6a6f2c6a-a320-4ae7-b5e6-f509d5761678",
   "metadata": {},
   "outputs": [],
   "source": [
    "from huggingface_hub import HfApi\n",
    "api = HfApi()"
   ]
  },
  {
   "cell_type": "code",
   "execution_count": 4,
   "id": "da9bb4af-6f10-423d-b326-83a477019883",
   "metadata": {},
   "outputs": [
    {
     "data": {
      "application/vnd.jupyter.widget-view+json": {
       "model_id": "19b78b601ce946f9a5df90c7be1e4a30",
       "version_major": 2,
       "version_minor": 0
      },
      "text/plain": [
       "epoch=39-step=4919.ckpt:   0%|          | 0.00/8.60G [00:00<?, ?B/s]"
      ]
     },
     "metadata": {},
     "output_type": "display_data"
    },
    {
     "data": {
      "application/vnd.jupyter.widget-view+json": {
       "model_id": "2d53b8a7ac5d4bdea1d6738c6975039a",
       "version_major": 2,
       "version_minor": 0
      },
      "text/plain": [
       "epoch=40-step=5042.ckpt:   0%|          | 0.00/8.60G [00:00<?, ?B/s]"
      ]
     },
     "metadata": {},
     "output_type": "display_data"
    },
    {
     "data": {
      "application/vnd.jupyter.widget-view+json": {
       "model_id": "26b41f27a95844b68825dc2b2de31151",
       "version_major": 2,
       "version_minor": 0
      },
      "text/plain": [
       "Upload 3 LFS files:   0%|          | 0/3 [00:00<?, ?it/s]"
      ]
     },
     "metadata": {},
     "output_type": "display_data"
    },
    {
     "data": {
      "application/vnd.jupyter.widget-view+json": {
       "model_id": "f3fbe096146b40229c867ba86541de9c",
       "version_major": 2,
       "version_minor": 0
      },
      "text/plain": [
       "epoch=83-step=29735.ckpt:   0%|          | 0.00/8.60G [00:00<?, ?B/s]"
      ]
     },
     "metadata": {},
     "output_type": "display_data"
    },
    {
     "data": {
      "text/plain": [
       "'https://huggingface.co/whoismikha/controlnet/tree/main/controlnet_mlsd_fixed_prompt/checkpoints'"
      ]
     },
     "execution_count": 4,
     "metadata": {},
     "output_type": "execute_result"
    }
   ],
   "source": [
    "\n",
    "api.upload_folder(\n",
    "    folder_path=\"logs/ControlNet/controlnet_mlsd_fixed_prompt/checkpoints\",\n",
    "    path_in_repo=\"controlnet_mlsd_fixed_prompt/checkpoints\",\n",
    "    repo_id=\"whoismikha/controlnet\",\n",
    "    repo_type=\"model\",\n",
    "    ignore_patterns=\"**/logs/*.txt\",\n",
    ")"
   ]
  },
  {
   "cell_type": "code",
   "execution_count": null,
   "id": "b48ff16f-6f67-4be5-926e-f57b64df0da8",
   "metadata": {},
   "outputs": [],
   "source": []
  }
 ],
 "metadata": {
  "kernelspec": {
   "display_name": "Python 3",
   "language": "python",
   "name": "python3"
  },
  "language_info": {
   "codemirror_mode": {
    "name": "ipython",
    "version": 3
   },
   "file_extension": ".py",
   "mimetype": "text/x-python",
   "name": "python",
   "nbconvert_exporter": "python",
   "pygments_lexer": "ipython3",
   "version": "3.8.10"
  }
 },
 "nbformat": 4,
 "nbformat_minor": 5
}
